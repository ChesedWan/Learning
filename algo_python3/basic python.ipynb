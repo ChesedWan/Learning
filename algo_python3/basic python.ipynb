{
 "cells": [
  {
   "cell_type": "code",
   "execution_count": 3,
   "metadata": {
    "ExecuteTime": {
     "end_time": "2020-03-29T23:36:20.968014Z",
     "start_time": "2020-03-29T23:36:20.964818Z"
    }
   },
   "outputs": [],
   "source": [
    "from IPython.core.interactiveshell import InteractiveShell\n",
    "InteractiveShell.ast_node_interactivity = \"all\""
   ]
  },
  {
   "cell_type": "markdown",
   "metadata": {},
   "source": [
    "# Basic operations"
   ]
  },
  {
   "cell_type": "markdown",
   "metadata": {},
   "source": [
    "Imperative programming: \n",
    "\n",
    "Functional programming: "
   ]
  },
  {
   "cell_type": "markdown",
   "metadata": {},
   "source": [
    "Dynamically typed language: Python\n",
    "\n",
    "Statically typed language: C, C++, Java...should declare variable type"
   ]
  },
  {
   "cell_type": "code",
   "execution_count": 16,
   "metadata": {
    "ExecuteTime": {
     "end_time": "2020-03-29T23:41:48.059346Z",
     "start_time": "2020-03-29T23:41:48.056501Z"
    }
   },
   "outputs": [],
   "source": [
    "a = 10\n",
    "b = -3\n",
    "c = 3"
   ]
  },
  {
   "cell_type": "code",
   "execution_count": 17,
   "metadata": {
    "ExecuteTime": {
     "end_time": "2020-03-29T23:41:48.217248Z",
     "start_time": "2020-03-29T23:41:48.209436Z"
    }
   },
   "outputs": [
    {
     "data": {
      "text/plain": [
       "-3.3333333333333335"
      ]
     },
     "execution_count": 17,
     "metadata": {},
     "output_type": "execute_result"
    },
    {
     "data": {
      "text/plain": [
       "-4"
      ]
     },
     "execution_count": 17,
     "metadata": {},
     "output_type": "execute_result"
    },
    {
     "data": {
      "text/plain": [
       "-3"
      ]
     },
     "execution_count": 17,
     "metadata": {},
     "output_type": "execute_result"
    }
   ],
   "source": [
    "a / b\n",
    "# floor\n",
    "a // b\n",
    "# truncate\n",
    "int(a / b)"
   ]
  },
  {
   "cell_type": "code",
   "execution_count": 18,
   "metadata": {
    "ExecuteTime": {
     "end_time": "2020-03-29T23:41:48.408135Z",
     "start_time": "2020-03-29T23:41:48.402513Z"
    }
   },
   "outputs": [
    {
     "data": {
      "text/plain": [
       "3.3333333333333335"
      ]
     },
     "execution_count": 18,
     "metadata": {},
     "output_type": "execute_result"
    },
    {
     "data": {
      "text/plain": [
       "3"
      ]
     },
     "execution_count": 18,
     "metadata": {},
     "output_type": "execute_result"
    },
    {
     "data": {
      "text/plain": [
       "3"
      ]
     },
     "execution_count": 18,
     "metadata": {},
     "output_type": "execute_result"
    }
   ],
   "source": [
    "a / c\n",
    "# floor\n",
    "a // c\n",
    "# truncate\n",
    "int(a / c)"
   ]
  },
  {
   "cell_type": "code",
   "execution_count": 20,
   "metadata": {
    "ExecuteTime": {
     "end_time": "2020-03-29T23:58:41.233463Z",
     "start_time": "2020-03-29T23:58:41.230015Z"
    }
   },
   "outputs": [],
   "source": [
    "d = -4.5"
   ]
  },
  {
   "cell_type": "code",
   "execution_count": 48,
   "metadata": {
    "ExecuteTime": {
     "end_time": "2020-03-30T00:07:10.178660Z",
     "start_time": "2020-03-30T00:07:10.171136Z"
    }
   },
   "outputs": [
    {
     "data": {
      "text/plain": [
       "-0.8035714285714286"
      ]
     },
     "execution_count": 48,
     "metadata": {},
     "output_type": "execute_result"
    },
    {
     "data": {
      "text/plain": [
       "False"
      ]
     },
     "execution_count": 48,
     "metadata": {},
     "output_type": "execute_result"
    },
    {
     "data": {
      "text/plain": [
       "True"
      ]
     },
     "execution_count": 48,
     "metadata": {},
     "output_type": "execute_result"
    }
   ],
   "source": [
    "# would be better not to use == compare two floating nums\n",
    "d / 5.6\n",
    "(d / 5.6) == (-0.803571)\n",
    "# when the abs diff < a threshold, usually take 1e-5\n",
    "# could regard as equal floating nums\n",
    "abs((d / 5.6) - (-0.803571)) < 1e-5"
   ]
  },
  {
   "cell_type": "markdown",
   "metadata": {},
   "source": [
    "**Priority: not > and > not**"
   ]
  },
  {
   "cell_type": "markdown",
   "metadata": {},
   "source": [
    "Python has a feature of **short-circuit** \n",
    "* if can confirm the first part of **or** condition is True, Python will ignore the second part since this condition is alreay True\n",
    "* if can confirm the first part of **and** condition is False, Python will ignore the second part since this condition is alreay False"
   ]
  },
  {
   "cell_type": "code",
   "execution_count": 49,
   "metadata": {
    "ExecuteTime": {
     "end_time": "2020-03-30T01:32:37.806476Z",
     "start_time": "2020-03-30T01:32:37.786890Z"
    }
   },
   "outputs": [
    {
     "name": "stdout",
     "output_type": "stream",
     "text": [
      "0 100\n",
      "1 99\n",
      "2 98\n",
      "3 74\n"
     ]
    }
   ],
   "source": [
    "# when we need index\n",
    "scores = [100, 99, 98, 74]\n",
    "for (i, score) in enumerate(scores):\n",
    "    print(i, score)"
   ]
  },
  {
   "cell_type": "markdown",
   "metadata": {},
   "source": [
    "# OOP features\n",
    "* Encapsulation: \\\n",
    "wrapping data and the methods that work on data within one unit; restrict access to methods and variables, besides, prevent the data from being modified by accident\n",
    "* Inheritance\n",
    "* Polymorphism"
   ]
  },
  {
   "cell_type": "markdown",
   "metadata": {},
   "source": [
    "Even for private variable, you could directly access by \\_\\_ClassName\\_\\_variable --> name mangling \\\n",
    "But we do not suggest code in this way, we could use getter or/and setting"
   ]
  },
  {
   "cell_type": "code",
   "execution_count": null,
   "metadata": {},
   "outputs": [],
   "source": []
  }
 ],
 "metadata": {
  "kernelspec": {
   "display_name": "Python 3",
   "language": "python",
   "name": "python3"
  },
  "language_info": {
   "codemirror_mode": {
    "name": "ipython",
    "version": 3
   },
   "file_extension": ".py",
   "mimetype": "text/x-python",
   "name": "python",
   "nbconvert_exporter": "python",
   "pygments_lexer": "ipython3",
   "version": "3.7.6"
  },
  "notify_time": "30",
  "toc": {
   "base_numbering": 1,
   "nav_menu": {},
   "number_sections": true,
   "sideBar": true,
   "skip_h1_title": false,
   "title_cell": "Table of Contents",
   "title_sidebar": "Contents",
   "toc_cell": false,
   "toc_position": {},
   "toc_section_display": true,
   "toc_window_display": true
  }
 },
 "nbformat": 4,
 "nbformat_minor": 4
}
