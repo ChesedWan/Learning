{
 "cells": [
  {
   "cell_type": "markdown",
   "metadata": {},
   "source": [
    "# Reverse 3-digit integer"
   ]
  },
  {
   "cell_type": "code",
   "execution_count": 26,
   "metadata": {
    "ExecuteTime": {
     "end_time": "2020-03-29T22:52:41.773926Z",
     "start_time": "2020-03-29T22:52:41.770514Z"
    }
   },
   "outputs": [],
   "source": [
    "def reverseInteger(number):\n",
    "    return int(str(number)[::-1])"
   ]
  },
  {
   "cell_type": "code",
   "execution_count": 15,
   "metadata": {
    "ExecuteTime": {
     "end_time": "2020-03-29T19:13:16.514902Z",
     "start_time": "2020-03-29T19:13:16.511447Z"
    }
   },
   "outputs": [],
   "source": [
    "def reverseInteger(number):\n",
    "    return number % 10 * 100 + number // 10 % 10 * 10 + number // 100"
   ]
  },
  {
   "cell_type": "code",
   "execution_count": 17,
   "metadata": {
    "ExecuteTime": {
     "end_time": "2020-03-29T19:13:23.259347Z",
     "start_time": "2020-03-29T19:13:23.254724Z"
    }
   },
   "outputs": [
    {
     "data": {
      "text/plain": [
       "321"
      ]
     },
     "execution_count": 17,
     "metadata": {},
     "output_type": "execute_result"
    }
   ],
   "source": [
    "reverseInteger(123)"
   ]
  },
  {
   "cell_type": "markdown",
   "metadata": {},
   "source": [
    "# Is leap year"
   ]
  },
  {
   "cell_type": "code",
   "execution_count": 27,
   "metadata": {
    "ExecuteTime": {
     "end_time": "2020-03-30T00:18:49.752549Z",
     "start_time": "2020-03-30T00:18:49.733954Z"
    }
   },
   "outputs": [],
   "source": [
    "def isLeapYear(n):\n",
    "    return n % 400 == 0 or (n % 4 == 0 and n % 100 != 0)"
   ]
  },
  {
   "cell_type": "code",
   "execution_count": 28,
   "metadata": {
    "ExecuteTime": {
     "end_time": "2020-03-30T00:18:49.904476Z",
     "start_time": "2020-03-30T00:18:49.897523Z"
    }
   },
   "outputs": [
    {
     "data": {
      "text/plain": [
       "True"
      ]
     },
     "execution_count": 28,
     "metadata": {},
     "output_type": "execute_result"
    }
   ],
   "source": [
    "isLeapYear(2004)"
   ]
  },
  {
   "cell_type": "markdown",
   "metadata": {
    "ExecuteTime": {
     "end_time": "2020-03-29T19:17:11.306940Z",
     "start_time": "2020-03-29T19:17:11.303413Z"
    }
   },
   "source": [
    "# Fizz buzz\n",
    "Given number n. Print number from 1 to n. But:\n",
    "\n",
    "* when number is divided by 3, print \"fizz\".\n",
    "* when number is divided by 5, print \"buzz\".\n",
    "* when number is divided by both 3 and 5, print \"fizz buzz\".\n",
    "* when number can't be divided by either 3 or 5, print the number \"itself\""
   ]
  },
  {
   "cell_type": "code",
   "execution_count": null,
   "metadata": {},
   "outputs": [],
   "source": [
    "def fizzBuzz(self, n):\n",
    "    results = []\n",
    "    for i in range(1, n+1):\n",
    "        if i % 15 == 0:\n",
    "            results.append(\"fizz buzz\")\n",
    "        elif i % 5 == 0:\n",
    "            results.append(\"buzz\")\n",
    "        elif i % 3 == 0:\n",
    "            results.append(\"fizz\")\n",
    "        else:\n",
    "            results.append(str(i))\n",
    "    return results"
   ]
  },
  {
   "cell_type": "markdown",
   "metadata": {},
   "source": [
    "# Swap two int in array\n",
    "Given an array and two indexes, swap the integers on the two indices."
   ]
  },
  {
   "cell_type": "code",
   "execution_count": 29,
   "metadata": {
    "ExecuteTime": {
     "end_time": "2020-03-30T01:45:02.219600Z",
     "start_time": "2020-03-30T01:45:02.209764Z"
    }
   },
   "outputs": [],
   "source": [
    "def swapIntegers(A, index1, index2):\n",
    "    A[index1], A[index2] = A[index2], A[index1]\n",
    "    return A"
   ]
  },
  {
   "cell_type": "code",
   "execution_count": 32,
   "metadata": {
    "ExecuteTime": {
     "end_time": "2020-03-30T01:45:37.836768Z",
     "start_time": "2020-03-30T01:45:37.830387Z"
    }
   },
   "outputs": [
    {
     "data": {
      "text/plain": [
       "[1, 5, 4, 2]"
      ]
     },
     "execution_count": 32,
     "metadata": {},
     "output_type": "execute_result"
    }
   ],
   "source": [
    "swapIntegers([1, 2, 4, 5], 1, 3)"
   ]
  },
  {
   "cell_type": "markdown",
   "metadata": {},
   "source": [
    "# Max of 3 int"
   ]
  },
  {
   "cell_type": "code",
   "execution_count": 24,
   "metadata": {
    "ExecuteTime": {
     "end_time": "2020-03-29T22:45:26.057877Z",
     "start_time": "2020-03-29T22:45:26.055013Z"
    }
   },
   "outputs": [],
   "source": [
    "def maxOfThreeNumbers(a, b, c):\n",
    "    return max(a, b, c)"
   ]
  },
  {
   "cell_type": "markdown",
   "metadata": {},
   "source": [
    "# Palindrome Number\n",
    "A palindrome number is that if you reverse the whole number you will get exactly the same number."
   ]
  },
  {
   "cell_type": "code",
   "execution_count": 25,
   "metadata": {
    "ExecuteTime": {
     "end_time": "2020-03-29T22:45:26.778270Z",
     "start_time": "2020-03-29T22:45:26.775103Z"
    }
   },
   "outputs": [],
   "source": [
    "def isPalindrome(num):\n",
    "    if num < 0:\n",
    "        return False\n",
    "    return num == int(str(number)[::-1])"
   ]
  },
  {
   "cell_type": "code",
   "execution_count": null,
   "metadata": {},
   "outputs": [],
   "source": []
  }
 ],
 "metadata": {
  "kernelspec": {
   "display_name": "Python 3",
   "language": "python",
   "name": "python3"
  },
  "language_info": {
   "codemirror_mode": {
    "name": "ipython",
    "version": 3
   },
   "file_extension": ".py",
   "mimetype": "text/x-python",
   "name": "python",
   "nbconvert_exporter": "python",
   "pygments_lexer": "ipython3",
   "version": "3.7.6"
  },
  "toc": {
   "base_numbering": 1,
   "nav_menu": {},
   "number_sections": true,
   "sideBar": true,
   "skip_h1_title": false,
   "title_cell": "Table of Contents",
   "title_sidebar": "Contents",
   "toc_cell": false,
   "toc_position": {},
   "toc_section_display": true,
   "toc_window_display": false
  }
 },
 "nbformat": 4,
 "nbformat_minor": 4
}
